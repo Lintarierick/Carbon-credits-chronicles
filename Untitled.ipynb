{
 "cells": [
  {
   "cell_type": "markdown",
   "metadata": {},
   "source": [
    "BY:"
   ]
  },
  {
   "cell_type": "markdown",
   "metadata": {},
   "source": [
    "### Carbon Credit Chronicles: Unraveling the Impact of Initiatives on Climate Change through Time Series Analysis ###"
   ]
  },
  {
   "cell_type": "markdown",
   "metadata": {},
   "source": [
    "**What are carbon credits?**\n",
    "\n",
    "Carbon credits are tradable permits representing a reduction in greenhouse gas emissions. Entities exceeding emission limits buy credits, while those below can sell, creating economic incentives for emission reduction. The system aims to encourage a transition to cleaner practices and technologies."
   ]
  },
  {
   "cell_type": "markdown",
   "metadata": {},
   "source": [
    "**Business Understanding**\n",
    "\n",
    "In the contemporary era of environmental consciousness, businesses are increasingly investing in carbon credit initiatives to mitigate their ecological footprint. Understanding the true impact of these projects is crucial for regulatory bodies, investors, and researchers alike. This study seeks to delve into the intricacies of emission patterns before and after the implementation of carbon credit projects, employing advanced time series analysis techniques to unveil meaningful insights.\n",
    "\n"
   ]
  },
  {
   "cell_type": "markdown",
   "metadata": {},
   "source": [
    "**Problem Statement**\n",
    "\n",
    "As the global business landscape shifts towards sustainability, there is a growing need to comprehensively evaluate the effectiveness of carbon credit initiatives in curbing emissions. This study addresses the challenge of systematically assessing the impact of these projects on emission patterns through a rigorous time series analysis. The question at the forefront is: Do carbon credit initiatives significantly influence and contribute to the reduction of emissions over time?\n"
   ]
  },
  {
   "cell_type": "markdown",
   "metadata": {},
   "source": [
    "**Main Objective**\n",
    "\n",
    "To conduct a comprehensive time series analysis comparing emissions, aiming to evaluate their influence on emission patterns over time.\n",
    "\n",
    "**Specific Objectives**\n",
    "\n",
    "Identify Emission Trends: Analyze historical emissions data to uncover underlying trends over time. This involves exploring long-term patterns and variations to understand the trajectory of emissions before and after the implementation of carbon credit projects.\n",
    "\n",
    "Assess Seasonal Patterns: Determine the seasonality of emissions, aiming to understand recurring patterns throughout the year. This objective seeks to identify if there are specific times or seasons when emissions tend to peak or decline, providing valuable insights into the temporal dynamics of carbon footprints.\n",
    "\n",
    "\n",
    "Detect Anomalies and Outliers: Employ advanced anomaly detection techniques to identify unusual spikes or drops in emissions. This objective aims to pinpoint instances where the carbon credit initiatives might have had a sudden and significant impact, or conversely, instances where they may not have been as effective as expected.\n",
    "\n",
    "Analyze Correlations: Investigate correlations between the implementation of carbon credit projects and changes in emission patterns. This involves exploring statistical relationships to determine whether the introduction of carbon credit initiatives correlates with observable shifts in emission trends, providing evidence of their efficacy.\n",
    "\n",
    "Predictive Modeling for Carbon Credit Impact: Develop predictive models focusing on estimating the impact of future carbon credit projects. By forecasting potential emission reductions based on historical data and project parameters, this objective aims to provide a forward-looking perspective on the effectiveness of carbon credit initiatives.\n",
    "\n"
   ]
  },
  {
   "cell_type": "code",
   "execution_count": 7,
   "metadata": {},
   "outputs": [],
   "source": [
    "#import the necessary libraries\n",
    "import pandas as pd\n",
    "import numpy as np\n",
    "\n",
    "import seaborn as sns\n",
    "import matplotlib.pyplot as plt"
   ]
  },
  {
   "cell_type": "code",
   "execution_count": 8,
   "metadata": {},
   "outputs": [],
   "source": [
    "df = pd.read_csv(\"./data/annual-co2-emissions-per-country.csv\")\n",
    "df1 = pd.read_csv(\"./data/cumulative-co-emissions.csv\")\n",
    "\n",
    "# Merge based on 'Entity', 'Code', and 'Year'\n",
    "merged_df = pd.merge(df, df1, on=['Entity', 'Code', 'Year'])"
   ]
  },
  {
   "cell_type": "code",
   "execution_count": 9,
   "metadata": {},
   "outputs": [],
   "source": [
    "# Merging df3 with the previously merged DataFrame based on 'Entity', 'Code', and 'Year'\n",
    "df3 = pd.read_csv(\"./data/change-co2-annual-pct.csv\")\n",
    "merged_df = pd.merge(merged_df, df3, on=['Entity', 'Code', 'Year'])\n",
    "\n",
    "df4 = pd.read_csv('./data/annual-share-of-co2-emissions.csv')\n",
    "# Merging df4 with the existing merged DataFrame based on 'Entity', 'Code', and 'Year'\n",
    "merged_df = pd.merge(merged_df, df4, on=['Entity', 'Code', 'Year'])\n",
    "df5 = pd.read_csv('./data/co-emissions-per-capita.csv')\n",
    "merged_df = pd.merge(merged_df, df5, on=['Entity', 'Code', 'Year'])"
   ]
  },
  {
   "cell_type": "code",
   "execution_count": 10,
   "metadata": {},
   "outputs": [
    {
     "data": {
      "text/html": [
       "<div>\n",
       "<style scoped>\n",
       "    .dataframe tbody tr th:only-of-type {\n",
       "        vertical-align: middle;\n",
       "    }\n",
       "\n",
       "    .dataframe tbody tr th {\n",
       "        vertical-align: top;\n",
       "    }\n",
       "\n",
       "    .dataframe thead th {\n",
       "        text-align: right;\n",
       "    }\n",
       "</style>\n",
       "<table border=\"1\" class=\"dataframe\">\n",
       "  <thead>\n",
       "    <tr style=\"text-align: right;\">\n",
       "      <th></th>\n",
       "      <th>Entity</th>\n",
       "      <th>Code</th>\n",
       "      <th>Year</th>\n",
       "      <th>Annual CO₂ emissions</th>\n",
       "      <th>Cumulative CO₂ emissions</th>\n",
       "      <th>Annual CO₂ emissions growth (%)</th>\n",
       "      <th>Share of global annual CO₂ emissions</th>\n",
       "      <th>Annual CO₂ emissions (per capita)</th>\n",
       "    </tr>\n",
       "  </thead>\n",
       "  <tbody>\n",
       "    <tr>\n",
       "      <th>0</th>\n",
       "      <td>Afghanistan</td>\n",
       "      <td>AFG</td>\n",
       "      <td>1950</td>\n",
       "      <td>84272.0</td>\n",
       "      <td>98928.0</td>\n",
       "      <td>475.000000</td>\n",
       "      <td>0.001421</td>\n",
       "      <td>0.011266</td>\n",
       "    </tr>\n",
       "    <tr>\n",
       "      <th>1</th>\n",
       "      <td>Afghanistan</td>\n",
       "      <td>AFG</td>\n",
       "      <td>1951</td>\n",
       "      <td>91600.0</td>\n",
       "      <td>190528.0</td>\n",
       "      <td>8.695650</td>\n",
       "      <td>0.001435</td>\n",
       "      <td>0.012098</td>\n",
       "    </tr>\n",
       "    <tr>\n",
       "      <th>2</th>\n",
       "      <td>Afghanistan</td>\n",
       "      <td>AFG</td>\n",
       "      <td>1952</td>\n",
       "      <td>91600.0</td>\n",
       "      <td>282128.0</td>\n",
       "      <td>0.000000</td>\n",
       "      <td>0.001416</td>\n",
       "      <td>0.011946</td>\n",
       "    </tr>\n",
       "    <tr>\n",
       "      <th>3</th>\n",
       "      <td>Afghanistan</td>\n",
       "      <td>AFG</td>\n",
       "      <td>1953</td>\n",
       "      <td>106256.0</td>\n",
       "      <td>388384.0</td>\n",
       "      <td>15.999996</td>\n",
       "      <td>0.001598</td>\n",
       "      <td>0.013685</td>\n",
       "    </tr>\n",
       "    <tr>\n",
       "      <th>4</th>\n",
       "      <td>Afghanistan</td>\n",
       "      <td>AFG</td>\n",
       "      <td>1954</td>\n",
       "      <td>106256.0</td>\n",
       "      <td>494640.0</td>\n",
       "      <td>0.000000</td>\n",
       "      <td>0.001565</td>\n",
       "      <td>0.013511</td>\n",
       "    </tr>\n",
       "  </tbody>\n",
       "</table>\n",
       "</div>"
      ],
      "text/plain": [
       "        Entity Code  Year  Annual CO₂ emissions  Cumulative CO₂ emissions  \\\n",
       "0  Afghanistan  AFG  1950               84272.0                   98928.0   \n",
       "1  Afghanistan  AFG  1951               91600.0                  190528.0   \n",
       "2  Afghanistan  AFG  1952               91600.0                  282128.0   \n",
       "3  Afghanistan  AFG  1953              106256.0                  388384.0   \n",
       "4  Afghanistan  AFG  1954              106256.0                  494640.0   \n",
       "\n",
       "   Annual CO₂ emissions growth (%)  Share of global annual CO₂ emissions  \\\n",
       "0                       475.000000                              0.001421   \n",
       "1                         8.695650                              0.001435   \n",
       "2                         0.000000                              0.001416   \n",
       "3                        15.999996                              0.001598   \n",
       "4                         0.000000                              0.001565   \n",
       "\n",
       "   Annual CO₂ emissions (per capita)  \n",
       "0                           0.011266  \n",
       "1                           0.012098  \n",
       "2                           0.011946  \n",
       "3                           0.013685  \n",
       "4                           0.013511  "
      ]
     },
     "execution_count": 10,
     "metadata": {},
     "output_type": "execute_result"
    }
   ],
   "source": [
    "# Display the updated merged DataFrame\n",
    "merged_df.head()"
   ]
  },
  {
   "cell_type": "code",
   "execution_count": 11,
   "metadata": {},
   "outputs": [
    {
     "data": {
      "text/plain": [
       "Entity                                     0\n",
       "Code                                    3057\n",
       "Year                                       0\n",
       "Annual CO₂ emissions                       0\n",
       "Cumulative CO₂ emissions                   0\n",
       "Annual CO₂ emissions growth (%)            0\n",
       "Share of global annual CO₂ emissions       0\n",
       "Annual CO₂ emissions (per capita)          0\n",
       "dtype: int64"
      ]
     },
     "execution_count": 11,
     "metadata": {},
     "output_type": "execute_result"
    }
   ],
   "source": [
    "#check for missing values\n",
    "merged_df.isnull().sum()"
   ]
  },
  {
   "cell_type": "code",
   "execution_count": 13,
   "metadata": {},
   "outputs": [],
   "source": [
    "merged_df = merged_df.drop(['Code'], axis=1)"
   ]
  },
  {
   "cell_type": "code",
   "execution_count": 14,
   "metadata": {},
   "outputs": [
    {
     "data": {
      "text/plain": [
       "(24196, 7)"
      ]
     },
     "execution_count": 14,
     "metadata": {},
     "output_type": "execute_result"
    }
   ],
   "source": [
    "merged_df.shape"
   ]
  },
  {
   "cell_type": "code",
   "execution_count": 15,
   "metadata": {},
   "outputs": [
    {
     "data": {
      "text/html": [
       "<div>\n",
       "<style scoped>\n",
       "    .dataframe tbody tr th:only-of-type {\n",
       "        vertical-align: middle;\n",
       "    }\n",
       "\n",
       "    .dataframe tbody tr th {\n",
       "        vertical-align: top;\n",
       "    }\n",
       "\n",
       "    .dataframe thead th {\n",
       "        text-align: right;\n",
       "    }\n",
       "</style>\n",
       "<table border=\"1\" class=\"dataframe\">\n",
       "  <thead>\n",
       "    <tr style=\"text-align: right;\">\n",
       "      <th></th>\n",
       "      <th>Entity</th>\n",
       "      <th>Year</th>\n",
       "      <th>Annual CO₂ emissions</th>\n",
       "      <th>Cumulative CO₂ emissions</th>\n",
       "      <th>Annual CO₂ emissions growth (%)</th>\n",
       "      <th>Share of global annual CO₂ emissions</th>\n",
       "      <th>Annual CO₂ emissions (per capita)</th>\n",
       "    </tr>\n",
       "  </thead>\n",
       "  <tbody>\n",
       "    <tr>\n",
       "      <th>0</th>\n",
       "      <td>Afghanistan</td>\n",
       "      <td>1950</td>\n",
       "      <td>84272.0</td>\n",
       "      <td>98928.0</td>\n",
       "      <td>475.000000</td>\n",
       "      <td>0.001421</td>\n",
       "      <td>0.011266</td>\n",
       "    </tr>\n",
       "    <tr>\n",
       "      <th>1</th>\n",
       "      <td>Afghanistan</td>\n",
       "      <td>1951</td>\n",
       "      <td>91600.0</td>\n",
       "      <td>190528.0</td>\n",
       "      <td>8.695650</td>\n",
       "      <td>0.001435</td>\n",
       "      <td>0.012098</td>\n",
       "    </tr>\n",
       "    <tr>\n",
       "      <th>2</th>\n",
       "      <td>Afghanistan</td>\n",
       "      <td>1952</td>\n",
       "      <td>91600.0</td>\n",
       "      <td>282128.0</td>\n",
       "      <td>0.000000</td>\n",
       "      <td>0.001416</td>\n",
       "      <td>0.011946</td>\n",
       "    </tr>\n",
       "    <tr>\n",
       "      <th>3</th>\n",
       "      <td>Afghanistan</td>\n",
       "      <td>1953</td>\n",
       "      <td>106256.0</td>\n",
       "      <td>388384.0</td>\n",
       "      <td>15.999996</td>\n",
       "      <td>0.001598</td>\n",
       "      <td>0.013685</td>\n",
       "    </tr>\n",
       "    <tr>\n",
       "      <th>4</th>\n",
       "      <td>Afghanistan</td>\n",
       "      <td>1954</td>\n",
       "      <td>106256.0</td>\n",
       "      <td>494640.0</td>\n",
       "      <td>0.000000</td>\n",
       "      <td>0.001565</td>\n",
       "      <td>0.013511</td>\n",
       "    </tr>\n",
       "  </tbody>\n",
       "</table>\n",
       "</div>"
      ],
      "text/plain": [
       "        Entity  Year  Annual CO₂ emissions  Cumulative CO₂ emissions  \\\n",
       "0  Afghanistan  1950               84272.0                   98928.0   \n",
       "1  Afghanistan  1951               91600.0                  190528.0   \n",
       "2  Afghanistan  1952               91600.0                  282128.0   \n",
       "3  Afghanistan  1953              106256.0                  388384.0   \n",
       "4  Afghanistan  1954              106256.0                  494640.0   \n",
       "\n",
       "   Annual CO₂ emissions growth (%)  Share of global annual CO₂ emissions  \\\n",
       "0                       475.000000                              0.001421   \n",
       "1                         8.695650                              0.001435   \n",
       "2                         0.000000                              0.001416   \n",
       "3                        15.999996                              0.001598   \n",
       "4                         0.000000                              0.001565   \n",
       "\n",
       "   Annual CO₂ emissions (per capita)  \n",
       "0                           0.011266  \n",
       "1                           0.012098  \n",
       "2                           0.011946  \n",
       "3                           0.013685  \n",
       "4                           0.013511  "
      ]
     },
     "execution_count": 15,
     "metadata": {},
     "output_type": "execute_result"
    }
   ],
   "source": [
    "merged_df.head()"
   ]
  },
  {
   "cell_type": "code",
   "execution_count": 51,
   "metadata": {},
   "outputs": [],
   "source": [
    "#Load the datasets by organization\n",
    "df1 = pd.read_csv('./data/credits/ACR/ACR Issuances.csv')\n",
    "df2 = pd.read_csv('./data/credits/CAR/CAR Issuances.csv')\n",
    "df3 = pd.read_csv('./data/credits/Gold/Gold Issuances.csv')\n",
    "\n",
    "# Assign the organization the dataset is from.\n",
    "df1['Organization'] = 'ACR'\n",
    "df2['Organization'] = 'CAR'\n",
    "df3['Organization'] = 'Gold'"
   ]
  },
  {
   "cell_type": "code",
   "execution_count": 52,
   "metadata": {},
   "outputs": [],
   "source": [
    "#Load the projects data\n",
    "df1_projects = pd.read_csv('./data/credits/ACR/ACR Projects.csv')\n",
    "df2_projects = pd.read_csv('./data/credits/CAR/CAR Projects.csv')\n",
    "df3_projects = pd.read_csv('./data/credits/Gold/Gold Projects.csv')\n",
    "\n",
    "#Rename the GS_ID to Project ID for merging.\n",
    "df3_projects.rename(columns={'GS_ID': 'Project ID'}, inplace=True)"
   ]
  },
  {
   "cell_type": "code",
   "execution_count": 53,
   "metadata": {},
   "outputs": [],
   "source": [
    "df1.rename(columns={'Issuance \\r\\nYear': 'Issuance Year', 'Total Credits Issued': 'Total Offset Credits Issued'}, inplace=True)\n",
    "df2.rename(columns={'Issuance \\r\\nYear': 'Issuance Year'}, inplace=True)\n",
    "df3.rename(columns={'Issuance \\r\\nYear': 'Issuance Year', 'Country':'Project Site Country', 'Quantity':'Total Offset Credits Issued'}, inplace=True)\n"
   ]
  },
  {
   "cell_type": "code",
   "execution_count": 54,
   "metadata": {},
   "outputs": [],
   "source": [
    "def createNewDf(df, projects_df):\n",
    "    columns = [\"Project ID\", \"Total Offset Credits Issued\", \"Project Site Country\", \"Issuance Year\", \"Organization\"]\n",
    "    new_df = df[columns].copy()\n",
    "    merged_new_df = pd.merge(new_df, projects_df[['Project ID', 'Project Name']], on='Project ID', how='left')\n",
    "    return merged_new_df"
   ]
  },
  {
   "cell_type": "code",
   "execution_count": 55,
   "metadata": {},
   "outputs": [],
   "source": [
    "new_df1 = createNewDf(df1, df1_projects)\n",
    "new_df2 = createNewDf(df2, df2_projects)\n",
    "new_df3 = createNewDf(df3, df3_projects)\n"
   ]
  },
  {
   "cell_type": "code",
   "execution_count": 56,
   "metadata": {},
   "outputs": [
    {
     "data": {
      "text/plain": [
       "(16537, 6)"
      ]
     },
     "execution_count": 56,
     "metadata": {},
     "output_type": "execute_result"
    }
   ],
   "source": [
    "merged_org_df = pd.concat([new_df1, new_df2, new_df3], ignore_index=True)\n",
    "merged_org_df.shape"
   ]
  },
  {
   "cell_type": "code",
   "execution_count": 57,
   "metadata": {},
   "outputs": [
    {
     "data": {
      "text/html": [
       "<div>\n",
       "<style scoped>\n",
       "    .dataframe tbody tr th:only-of-type {\n",
       "        vertical-align: middle;\n",
       "    }\n",
       "\n",
       "    .dataframe tbody tr th {\n",
       "        vertical-align: top;\n",
       "    }\n",
       "\n",
       "    .dataframe thead th {\n",
       "        text-align: right;\n",
       "    }\n",
       "</style>\n",
       "<table border=\"1\" class=\"dataframe\">\n",
       "  <thead>\n",
       "    <tr style=\"text-align: right;\">\n",
       "      <th></th>\n",
       "      <th>Project ID</th>\n",
       "      <th>Total Offset Credits Issued</th>\n",
       "      <th>Project Site Country</th>\n",
       "      <th>Issuance Year</th>\n",
       "      <th>Organization</th>\n",
       "      <th>Project Name</th>\n",
       "    </tr>\n",
       "  </thead>\n",
       "  <tbody>\n",
       "    <tr>\n",
       "      <th>0</th>\n",
       "      <td>ACR167</td>\n",
       "      <td>125000</td>\n",
       "      <td>US</td>\n",
       "      <td>2002</td>\n",
       "      <td>ACR</td>\n",
       "      <td>Nitrogen Oxide Abatement at the DuPont Sabine ...</td>\n",
       "    </tr>\n",
       "    <tr>\n",
       "      <th>1</th>\n",
       "      <td>ACR163</td>\n",
       "      <td>500</td>\n",
       "      <td>US</td>\n",
       "      <td>2004</td>\n",
       "      <td>ACR</td>\n",
       "      <td>Des Plaines LFG to Energy</td>\n",
       "    </tr>\n",
       "    <tr>\n",
       "      <th>2</th>\n",
       "      <td>ACR103</td>\n",
       "      <td>5825</td>\n",
       "      <td>US</td>\n",
       "      <td>2005</td>\n",
       "      <td>ACR</td>\n",
       "      <td>Inland Empire Anaerobic Ag Digester</td>\n",
       "    </tr>\n",
       "    <tr>\n",
       "      <th>3</th>\n",
       "      <td>ACR103</td>\n",
       "      <td>8023</td>\n",
       "      <td>US</td>\n",
       "      <td>2005</td>\n",
       "      <td>ACR</td>\n",
       "      <td>Inland Empire Anaerobic Ag Digester</td>\n",
       "    </tr>\n",
       "    <tr>\n",
       "      <th>4</th>\n",
       "      <td>ACR163</td>\n",
       "      <td>1000</td>\n",
       "      <td>US</td>\n",
       "      <td>2005</td>\n",
       "      <td>ACR</td>\n",
       "      <td>Des Plaines LFG to Energy</td>\n",
       "    </tr>\n",
       "  </tbody>\n",
       "</table>\n",
       "</div>"
      ],
      "text/plain": [
       "  Project ID Total Offset Credits Issued Project Site Country  Issuance Year  \\\n",
       "0     ACR167                      125000                   US           2002   \n",
       "1     ACR163                         500                   US           2004   \n",
       "2     ACR103                        5825                   US           2005   \n",
       "3     ACR103                        8023                   US           2005   \n",
       "4     ACR163                        1000                   US           2005   \n",
       "\n",
       "  Organization                                       Project Name  \n",
       "0          ACR  Nitrogen Oxide Abatement at the DuPont Sabine ...  \n",
       "1          ACR                          Des Plaines LFG to Energy  \n",
       "2          ACR                Inland Empire Anaerobic Ag Digester  \n",
       "3          ACR                Inland Empire Anaerobic Ag Digester  \n",
       "4          ACR                          Des Plaines LFG to Energy  "
      ]
     },
     "execution_count": 57,
     "metadata": {},
     "output_type": "execute_result"
    }
   ],
   "source": [
    "merged_org_df.head()"
   ]
  },
  {
   "cell_type": "code",
   "execution_count": 59,
   "metadata": {},
   "outputs": [
    {
     "data": {
      "text/plain": [
       "Project ID                     0\n",
       "Total Offset Credits Issued    0\n",
       "Project Site Country           0\n",
       "Issuance Year                  0\n",
       "Organization                   0\n",
       "Project Name                   3\n",
       "dtype: int64"
      ]
     },
     "execution_count": 59,
     "metadata": {},
     "output_type": "execute_result"
    }
   ],
   "source": [
    "merged_org_df.isnull().sum()"
   ]
  },
  {
   "cell_type": "code",
   "execution_count": 60,
   "metadata": {},
   "outputs": [
    {
     "data": {
      "text/html": [
       "<div>\n",
       "<style scoped>\n",
       "    .dataframe tbody tr th:only-of-type {\n",
       "        vertical-align: middle;\n",
       "    }\n",
       "\n",
       "    .dataframe tbody tr th {\n",
       "        vertical-align: top;\n",
       "    }\n",
       "\n",
       "    .dataframe thead th {\n",
       "        text-align: right;\n",
       "    }\n",
       "</style>\n",
       "<table border=\"1\" class=\"dataframe\">\n",
       "  <thead>\n",
       "    <tr style=\"text-align: right;\">\n",
       "      <th></th>\n",
       "      <th>Project ID</th>\n",
       "      <th>Total Offset Credits Issued</th>\n",
       "      <th>Project Site Country</th>\n",
       "      <th>Issuance Year</th>\n",
       "      <th>Organization</th>\n",
       "      <th>Project Name</th>\n",
       "    </tr>\n",
       "  </thead>\n",
       "  <tbody>\n",
       "    <tr>\n",
       "      <th>0</th>\n",
       "      <td>ACR167</td>\n",
       "      <td>125000</td>\n",
       "      <td>US</td>\n",
       "      <td>2002</td>\n",
       "      <td>ACR</td>\n",
       "      <td>Nitrogen Oxide Abatement at the DuPont Sabine ...</td>\n",
       "    </tr>\n",
       "    <tr>\n",
       "      <th>1</th>\n",
       "      <td>ACR163</td>\n",
       "      <td>500</td>\n",
       "      <td>US</td>\n",
       "      <td>2004</td>\n",
       "      <td>ACR</td>\n",
       "      <td>Des Plaines LFG to Energy</td>\n",
       "    </tr>\n",
       "    <tr>\n",
       "      <th>2</th>\n",
       "      <td>ACR103</td>\n",
       "      <td>5825</td>\n",
       "      <td>US</td>\n",
       "      <td>2005</td>\n",
       "      <td>ACR</td>\n",
       "      <td>Inland Empire Anaerobic Ag Digester</td>\n",
       "    </tr>\n",
       "    <tr>\n",
       "      <th>3</th>\n",
       "      <td>ACR103</td>\n",
       "      <td>8023</td>\n",
       "      <td>US</td>\n",
       "      <td>2005</td>\n",
       "      <td>ACR</td>\n",
       "      <td>Inland Empire Anaerobic Ag Digester</td>\n",
       "    </tr>\n",
       "    <tr>\n",
       "      <th>4</th>\n",
       "      <td>ACR163</td>\n",
       "      <td>1000</td>\n",
       "      <td>US</td>\n",
       "      <td>2005</td>\n",
       "      <td>ACR</td>\n",
       "      <td>Des Plaines LFG to Energy</td>\n",
       "    </tr>\n",
       "    <tr>\n",
       "      <th>...</th>\n",
       "      <td>...</td>\n",
       "      <td>...</td>\n",
       "      <td>...</td>\n",
       "      <td>...</td>\n",
       "      <td>...</td>\n",
       "      <td>...</td>\n",
       "    </tr>\n",
       "    <tr>\n",
       "      <th>16532</th>\n",
       "      <td>GS997</td>\n",
       "      <td>4947</td>\n",
       "      <td>India</td>\n",
       "      <td>2017</td>\n",
       "      <td>Gold</td>\n",
       "      <td>LAYA Paderu Energy Efficient Woodstoves Project</td>\n",
       "    </tr>\n",
       "    <tr>\n",
       "      <th>16533</th>\n",
       "      <td>GS997</td>\n",
       "      <td>5869</td>\n",
       "      <td>India</td>\n",
       "      <td>2019</td>\n",
       "      <td>Gold</td>\n",
       "      <td>LAYA Paderu Energy Efficient Woodstoves Project</td>\n",
       "    </tr>\n",
       "    <tr>\n",
       "      <th>16534</th>\n",
       "      <td>GS997</td>\n",
       "      <td>5879</td>\n",
       "      <td>India</td>\n",
       "      <td>2019</td>\n",
       "      <td>Gold</td>\n",
       "      <td>LAYA Paderu Energy Efficient Woodstoves Project</td>\n",
       "    </tr>\n",
       "    <tr>\n",
       "      <th>16535</th>\n",
       "      <td>GS997</td>\n",
       "      <td>6110</td>\n",
       "      <td>India</td>\n",
       "      <td>2022</td>\n",
       "      <td>Gold</td>\n",
       "      <td>LAYA Paderu Energy Efficient Woodstoves Project</td>\n",
       "    </tr>\n",
       "    <tr>\n",
       "      <th>16536</th>\n",
       "      <td>GS997</td>\n",
       "      <td>6097</td>\n",
       "      <td>India</td>\n",
       "      <td>2022</td>\n",
       "      <td>Gold</td>\n",
       "      <td>LAYA Paderu Energy Efficient Woodstoves Project</td>\n",
       "    </tr>\n",
       "  </tbody>\n",
       "</table>\n",
       "<p>16534 rows × 6 columns</p>\n",
       "</div>"
      ],
      "text/plain": [
       "      Project ID Total Offset Credits Issued Project Site Country  \\\n",
       "0         ACR167                      125000                   US   \n",
       "1         ACR163                         500                   US   \n",
       "2         ACR103                        5825                   US   \n",
       "3         ACR103                        8023                   US   \n",
       "4         ACR163                        1000                   US   \n",
       "...          ...                         ...                  ...   \n",
       "16532      GS997                        4947                India   \n",
       "16533      GS997                        5869                India   \n",
       "16534      GS997                        5879                India   \n",
       "16535      GS997                        6110                India   \n",
       "16536      GS997                        6097                India   \n",
       "\n",
       "       Issuance Year Organization  \\\n",
       "0               2002          ACR   \n",
       "1               2004          ACR   \n",
       "2               2005          ACR   \n",
       "3               2005          ACR   \n",
       "4               2005          ACR   \n",
       "...              ...          ...   \n",
       "16532           2017         Gold   \n",
       "16533           2019         Gold   \n",
       "16534           2019         Gold   \n",
       "16535           2022         Gold   \n",
       "16536           2022         Gold   \n",
       "\n",
       "                                            Project Name  \n",
       "0      Nitrogen Oxide Abatement at the DuPont Sabine ...  \n",
       "1                              Des Plaines LFG to Energy  \n",
       "2                    Inland Empire Anaerobic Ag Digester  \n",
       "3                    Inland Empire Anaerobic Ag Digester  \n",
       "4                              Des Plaines LFG to Energy  \n",
       "...                                                  ...  \n",
       "16532    LAYA Paderu Energy Efficient Woodstoves Project  \n",
       "16533    LAYA Paderu Energy Efficient Woodstoves Project  \n",
       "16534    LAYA Paderu Energy Efficient Woodstoves Project  \n",
       "16535    LAYA Paderu Energy Efficient Woodstoves Project  \n",
       "16536    LAYA Paderu Energy Efficient Woodstoves Project  \n",
       "\n",
       "[16534 rows x 6 columns]"
      ]
     },
     "execution_count": 60,
     "metadata": {},
     "output_type": "execute_result"
    }
   ],
   "source": [
    "merged_org_df.dropna()"
   ]
  },
  {
   "cell_type": "code",
   "execution_count": null,
   "metadata": {},
   "outputs": [],
   "source": []
  }
 ],
 "metadata": {
  "kernelspec": {
   "display_name": "Python 3",
   "language": "python",
   "name": "python3"
  },
  "language_info": {
   "codemirror_mode": {
    "name": "ipython",
    "version": 3
   },
   "file_extension": ".py",
   "mimetype": "text/x-python",
   "name": "python",
   "nbconvert_exporter": "python",
   "pygments_lexer": "ipython3",
   "version": "3.8.5"
  }
 },
 "nbformat": 4,
 "nbformat_minor": 4
}
