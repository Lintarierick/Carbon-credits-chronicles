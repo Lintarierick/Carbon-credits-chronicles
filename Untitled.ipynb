{
 "cells": [
  {
   "cell_type": "markdown",
   "metadata": {},
   "source": [
    "BY:"
   ]
  },
  {
   "cell_type": "markdown",
   "metadata": {},
   "source": [
    "### Carbon Credit Chronicles: Unraveling the Impact of Initiatives on Climate Change through Time Series Analysis ###"
   ]
  },
  {
   "cell_type": "markdown",
   "metadata": {},
   "source": [
    "**Business Understanding**\n",
    "\n",
    "In the contemporary era of environmental consciousness, businesses are increasingly investing in carbon credit initiatives to mitigate their ecological footprint. Understanding the true impact of these projects is crucial for regulatory bodies, investors, and researchers alike. This study seeks to delve into the intricacies of emission patterns before and after the implementation of carbon credit projects, employing advanced time series analysis techniques to unveil meaningful insights.\n",
    "\n"
   ]
  },
  {
   "cell_type": "markdown",
   "metadata": {},
   "source": [
    "**Problem Statement**\n",
    "\n",
    "As the global business landscape shifts towards sustainability, there is a growing need to comprehensively evaluate the effectiveness of carbon credit initiatives in curbing emissions. This study addresses the challenge of systematically assessing the impact of these projects on emission patterns through a rigorous time series analysis. The question at the forefront is: Do carbon credit initiatives significantly influence and contribute to the reduction of emissions over time?\n"
   ]
  },
  {
   "cell_type": "markdown",
   "metadata": {},
   "source": [
    "**Main Objective**\n",
    "\n",
    "To conduct a comprehensive time series analysis comparing emissions, aiming to evaluate their influence on emission patterns over time.\n",
    "\n",
    "**Specific Objectives**\n",
    "\n",
    "Identify Emission Trends: Analyze historical emissions data to uncover underlying trends over time. This involves exploring long-term patterns and variations to understand the trajectory of emissions before and after the implementation of carbon credit projects.\n",
    "\n",
    "Assess Seasonal Patterns: Determine the seasonality of emissions, aiming to understand recurring patterns throughout the year. This objective seeks to identify if there are specific times or seasons when emissions tend to peak or decline, providing valuable insights into the temporal dynamics of carbon footprints.\n",
    "\n",
    "\n",
    "Detect Anomalies and Outliers: Employ advanced anomaly detection techniques to identify unusual spikes or drops in emissions. This objective aims to pinpoint instances where the carbon credit initiatives might have had a sudden and significant impact, or conversely, instances where they may not have been as effective as expected.\n",
    "\n",
    "Analyze Correlations: Investigate correlations between the implementation of carbon credit projects and changes in emission patterns. This involves exploring statistical relationships to determine whether the introduction of carbon credit initiatives correlates with observable shifts in emission trends, providing evidence of their efficacy.\n",
    "\n",
    "Predictive Modeling for Carbon Credit Impact: Develop predictive models focusing on estimating the impact of future carbon credit projects. By forecasting potential emission reductions based on historical data and project parameters, this objective aims to provide a forward-looking perspective on the effectiveness of carbon credit initiatives.\n",
    "\n"
   ]
  },
  {
   "cell_type": "code",
   "execution_count": 37,
   "metadata": {},
   "outputs": [],
   "source": [
    "#import the necessary libraries\n",
    "import pandas as pd\n",
    "import numpy as np\n",
    "\n",
    "import seaborn as sns\n",
    "import matplotlib.pyplot as plt"
   ]
  },
  {
   "cell_type": "code",
   "execution_count": 38,
   "metadata": {},
   "outputs": [],
   "source": [
    "df = pd.read_csv(r\"C:\\Users\\nimu\\Downloads\\annual-co2-emissions-per-country.csv\")\n",
    "df1 = pd.read_csv(r\"C:\\Users\\nimu\\Downloads\\cumulative-co-emissions.csv\")\n",
    "\n",
    "# Merge based on 'Entity', 'Code', and 'Year'\n",
    "merged_df = pd.merge(df, df1, on=['Entity', 'Code', 'Year'])"
   ]
  },
  {
   "cell_type": "code",
   "execution_count": 39,
   "metadata": {},
   "outputs": [],
   "source": [
    "# Merging df3 with the previously merged DataFrame based on 'Entity', 'Code', and 'Year'\n",
    "df3 = pd.read_csv(r\"C:\\Users\\nimu\\Downloads\\change-co2-annual-pct.csv\")\n",
    "merged_df = pd.merge(merged_df, df3, on=['Entity', 'Code', 'Year'])"
   ]
  },
  {
   "cell_type": "code",
   "execution_count": 40,
   "metadata": {
    "scrolled": true
   },
   "outputs": [
    {
     "data": {
      "text/html": [
       "<div>\n",
       "<style scoped>\n",
       "    .dataframe tbody tr th:only-of-type {\n",
       "        vertical-align: middle;\n",
       "    }\n",
       "\n",
       "    .dataframe tbody tr th {\n",
       "        vertical-align: top;\n",
       "    }\n",
       "\n",
       "    .dataframe thead th {\n",
       "        text-align: right;\n",
       "    }\n",
       "</style>\n",
       "<table border=\"1\" class=\"dataframe\">\n",
       "  <thead>\n",
       "    <tr style=\"text-align: right;\">\n",
       "      <th></th>\n",
       "      <th>Entity</th>\n",
       "      <th>Code</th>\n",
       "      <th>Year</th>\n",
       "      <th>Annual CO₂ emissions</th>\n",
       "      <th>Cumulative CO₂ emissions</th>\n",
       "      <th>Annual CO₂ emissions growth (%)</th>\n",
       "      <th>Share of global annual CO₂ emissions</th>\n",
       "    </tr>\n",
       "  </thead>\n",
       "  <tbody>\n",
       "    <tr>\n",
       "      <th>0</th>\n",
       "      <td>Afghanistan</td>\n",
       "      <td>AFG</td>\n",
       "      <td>1950</td>\n",
       "      <td>84272.0</td>\n",
       "      <td>98928.0</td>\n",
       "      <td>475.000000</td>\n",
       "      <td>0.001421</td>\n",
       "    </tr>\n",
       "    <tr>\n",
       "      <th>1</th>\n",
       "      <td>Afghanistan</td>\n",
       "      <td>AFG</td>\n",
       "      <td>1951</td>\n",
       "      <td>91600.0</td>\n",
       "      <td>190528.0</td>\n",
       "      <td>8.695650</td>\n",
       "      <td>0.001435</td>\n",
       "    </tr>\n",
       "    <tr>\n",
       "      <th>2</th>\n",
       "      <td>Afghanistan</td>\n",
       "      <td>AFG</td>\n",
       "      <td>1952</td>\n",
       "      <td>91600.0</td>\n",
       "      <td>282128.0</td>\n",
       "      <td>0.000000</td>\n",
       "      <td>0.001416</td>\n",
       "    </tr>\n",
       "    <tr>\n",
       "      <th>3</th>\n",
       "      <td>Afghanistan</td>\n",
       "      <td>AFG</td>\n",
       "      <td>1953</td>\n",
       "      <td>106256.0</td>\n",
       "      <td>388384.0</td>\n",
       "      <td>15.999996</td>\n",
       "      <td>0.001598</td>\n",
       "    </tr>\n",
       "    <tr>\n",
       "      <th>4</th>\n",
       "      <td>Afghanistan</td>\n",
       "      <td>AFG</td>\n",
       "      <td>1954</td>\n",
       "      <td>106256.0</td>\n",
       "      <td>494640.0</td>\n",
       "      <td>0.000000</td>\n",
       "      <td>0.001565</td>\n",
       "    </tr>\n",
       "  </tbody>\n",
       "</table>\n",
       "</div>"
      ],
      "text/plain": [
       "        Entity Code  Year  Annual CO₂ emissions  Cumulative CO₂ emissions  \\\n",
       "0  Afghanistan  AFG  1950               84272.0                   98928.0   \n",
       "1  Afghanistan  AFG  1951               91600.0                  190528.0   \n",
       "2  Afghanistan  AFG  1952               91600.0                  282128.0   \n",
       "3  Afghanistan  AFG  1953              106256.0                  388384.0   \n",
       "4  Afghanistan  AFG  1954              106256.0                  494640.0   \n",
       "\n",
       "   Annual CO₂ emissions growth (%)  Share of global annual CO₂ emissions  \n",
       "0                       475.000000                              0.001421  \n",
       "1                         8.695650                              0.001435  \n",
       "2                         0.000000                              0.001416  \n",
       "3                        15.999996                              0.001598  \n",
       "4                         0.000000                              0.001565  "
      ]
     },
     "execution_count": 40,
     "metadata": {},
     "output_type": "execute_result"
    }
   ],
   "source": [
    "df4 = pd.read_csv(r\"C:\\Users\\nimu\\Downloads\\annual-share-of-co2-emissions.csv\")\n",
    "# Merging df4 with the existing merged DataFrame based on 'Entity', 'Code', and 'Year'\n",
    "merged_df = pd.merge(merged_df, df4, on=['Entity', 'Code', 'Year'])\n",
    "\n",
    "# Display the updated merged DataFrame\n",
    "merged_df.head()"
   ]
  },
  {
   "cell_type": "code",
   "execution_count": 41,
   "metadata": {},
   "outputs": [
    {
     "name": "stdout",
     "output_type": "stream",
     "text": [
      "<class 'pandas.core.frame.DataFrame'>\n",
      "RangeIndex: 24786 entries, 0 to 24785\n",
      "Data columns (total 7 columns):\n",
      " #   Column                                Non-Null Count  Dtype  \n",
      "---  ------                                --------------  -----  \n",
      " 0   Entity                                24786 non-null  object \n",
      " 1   Code                                  21372 non-null  object \n",
      " 2   Year                                  24786 non-null  int64  \n",
      " 3   Annual CO₂ emissions                  24786 non-null  float64\n",
      " 4   Cumulative CO₂ emissions              24786 non-null  float64\n",
      " 5   Annual CO₂ emissions growth (%)       24786 non-null  float64\n",
      " 6   Share of global annual CO₂ emissions  24786 non-null  float64\n",
      "dtypes: float64(4), int64(1), object(2)\n",
      "memory usage: 1.3+ MB\n"
     ]
    }
   ],
   "source": [
    "merged_df.info()"
   ]
  },
  {
   "cell_type": "code",
   "execution_count": 42,
   "metadata": {},
   "outputs": [
    {
     "data": {
      "text/plain": [
       "Entity                                     0\n",
       "Code                                    3414\n",
       "Year                                       0\n",
       "Annual CO₂ emissions                       0\n",
       "Cumulative CO₂ emissions                   0\n",
       "Annual CO₂ emissions growth (%)            0\n",
       "Share of global annual CO₂ emissions       0\n",
       "dtype: int64"
      ]
     },
     "execution_count": 42,
     "metadata": {},
     "output_type": "execute_result"
    }
   ],
   "source": [
    "merged_df.isnull().sum()"
   ]
  },
  {
   "cell_type": "code",
   "execution_count": 43,
   "metadata": {
    "scrolled": true
   },
   "outputs": [
    {
     "data": {
      "text/html": [
       "<div>\n",
       "<style scoped>\n",
       "    .dataframe tbody tr th:only-of-type {\n",
       "        vertical-align: middle;\n",
       "    }\n",
       "\n",
       "    .dataframe tbody tr th {\n",
       "        vertical-align: top;\n",
       "    }\n",
       "\n",
       "    .dataframe thead th {\n",
       "        text-align: right;\n",
       "    }\n",
       "</style>\n",
       "<table border=\"1\" class=\"dataframe\">\n",
       "  <thead>\n",
       "    <tr style=\"text-align: right;\">\n",
       "      <th></th>\n",
       "      <th>Entity</th>\n",
       "      <th>Year</th>\n",
       "      <th>Annual CO₂ emissions</th>\n",
       "      <th>Cumulative CO₂ emissions</th>\n",
       "      <th>Annual CO₂ emissions growth (%)</th>\n",
       "      <th>Share of global annual CO₂ emissions</th>\n",
       "    </tr>\n",
       "  </thead>\n",
       "  <tbody>\n",
       "    <tr>\n",
       "      <th>0</th>\n",
       "      <td>Afghanistan</td>\n",
       "      <td>1950</td>\n",
       "      <td>84272.0</td>\n",
       "      <td>98928.0</td>\n",
       "      <td>475.000000</td>\n",
       "      <td>0.001421</td>\n",
       "    </tr>\n",
       "    <tr>\n",
       "      <th>1</th>\n",
       "      <td>Afghanistan</td>\n",
       "      <td>1951</td>\n",
       "      <td>91600.0</td>\n",
       "      <td>190528.0</td>\n",
       "      <td>8.695650</td>\n",
       "      <td>0.001435</td>\n",
       "    </tr>\n",
       "    <tr>\n",
       "      <th>2</th>\n",
       "      <td>Afghanistan</td>\n",
       "      <td>1952</td>\n",
       "      <td>91600.0</td>\n",
       "      <td>282128.0</td>\n",
       "      <td>0.000000</td>\n",
       "      <td>0.001416</td>\n",
       "    </tr>\n",
       "    <tr>\n",
       "      <th>3</th>\n",
       "      <td>Afghanistan</td>\n",
       "      <td>1953</td>\n",
       "      <td>106256.0</td>\n",
       "      <td>388384.0</td>\n",
       "      <td>15.999996</td>\n",
       "      <td>0.001598</td>\n",
       "    </tr>\n",
       "    <tr>\n",
       "      <th>4</th>\n",
       "      <td>Afghanistan</td>\n",
       "      <td>1954</td>\n",
       "      <td>106256.0</td>\n",
       "      <td>494640.0</td>\n",
       "      <td>0.000000</td>\n",
       "      <td>0.001565</td>\n",
       "    </tr>\n",
       "  </tbody>\n",
       "</table>\n",
       "</div>"
      ],
      "text/plain": [
       "        Entity  Year  Annual CO₂ emissions  Cumulative CO₂ emissions  \\\n",
       "0  Afghanistan  1950               84272.0                   98928.0   \n",
       "1  Afghanistan  1951               91600.0                  190528.0   \n",
       "2  Afghanistan  1952               91600.0                  282128.0   \n",
       "3  Afghanistan  1953              106256.0                  388384.0   \n",
       "4  Afghanistan  1954              106256.0                  494640.0   \n",
       "\n",
       "   Annual CO₂ emissions growth (%)  Share of global annual CO₂ emissions  \n",
       "0                       475.000000                              0.001421  \n",
       "1                         8.695650                              0.001435  \n",
       "2                         0.000000                              0.001416  \n",
       "3                        15.999996                              0.001598  \n",
       "4                         0.000000                              0.001565  "
      ]
     },
     "execution_count": 43,
     "metadata": {},
     "output_type": "execute_result"
    }
   ],
   "source": [
    "merged_df = merged_df.drop('Code', axis=1)\n",
    "merged_df.head()"
   ]
  }
 ],
 "metadata": {
  "kernelspec": {
   "display_name": "Python 3",
   "language": "python",
   "name": "python3"
  },
  "language_info": {
   "codemirror_mode": {
    "name": "ipython",
    "version": 3
   },
   "file_extension": ".py",
   "mimetype": "text/x-python",
   "name": "python",
   "nbconvert_exporter": "python",
   "pygments_lexer": "ipython3",
   "version": "3.8.5"
  }
 },
 "nbformat": 4,
 "nbformat_minor": 4
}
